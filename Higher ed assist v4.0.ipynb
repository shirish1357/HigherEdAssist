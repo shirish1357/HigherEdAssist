{
 "cells": [
  {
   "cell_type": "markdown",
   "id": "559e6db5-e2ce-4d5b-a1a8-4281bba0b519",
   "metadata": {},
   "source": [
    "# HigherEdAssist: Academic Program Advisor\n",
    "\n",
    "This assistant helps prospective students understand academic programs and offers guidance on enrollment decisions.\n",
    "It includes an advanced recommendation engine that uses contextual embeddings,combining program descriptions and keywords \n",
    "to suggest programs based on student's interests and skills.\n",
    "The embeddings are generated using the fine-tuned model.\n"
   ]
  },
  {
   "cell_type": "markdown",
   "id": "2d7ce7f9-5171-4475-be5b-e50565b88e89",
   "metadata": {},
   "source": [
    "## Imports"
   ]
  },
  {
   "cell_type": "code",
   "execution_count": 6,
   "id": "c8237eb6-5951-41a7-832e-d5b31621fc4c",
   "metadata": {},
   "outputs": [],
   "source": [
    "import os\n",
    "import json\n",
    "from dotenv import load_dotenv\n",
    "from openai import OpenAI\n",
    "import gradio as gr\n",
    "from sentence_transformers import SentenceTransformer, util"
   ]
  },
  {
   "cell_type": "markdown",
   "id": "dbd61bee-ce90-4842-bef2-07eb281462d9",
   "metadata": {},
   "source": [
    "## Initialization"
   ]
  },
  {
   "cell_type": "code",
   "execution_count": 7,
   "id": "d64a3ea0-b2f7-4063-9385-40ac43f0a737",
   "metadata": {},
   "outputs": [
    {
     "name": "stdout",
     "output_type": "stream",
     "text": [
      "OpenAI API Key exists and begins sk-proj-\n"
     ]
    }
   ],
   "source": [
    "load_dotenv(override=True)\n",
    "openai_api_key = os.getenv('OPENAI_API_KEY')\n",
    "if openai_api_key:\n",
    "    print(\"OpenAI API Key exists and begins\", openai_api_key[:8])\n",
    "else:\n",
    "    print(\"OpenAI API Key not set\")\n",
    "\n",
    "MODEL = \"gpt-4o-mini\"\n",
    "openai = OpenAI()"
   ]
  },
  {
   "cell_type": "markdown",
   "id": "6ddc447c-b2e0-4457-b775-789d9fad2b4d",
   "metadata": {},
   "source": [
    "## Load the Fine-Tuned Model"
   ]
  },
  {
   "cell_type": "code",
   "execution_count": 8,
   "id": "7f7121fe-43e3-4ba0-aea0-3b4e2e71dab1",
   "metadata": {},
   "outputs": [],
   "source": [
    "sbert_model = SentenceTransformer('fine_tuned_academic_program_model')"
   ]
  },
  {
   "cell_type": "markdown",
   "id": "ae72477c-306f-4f42-bbf7-c51e254f5786",
   "metadata": {},
   "source": [
    "## Defining basic data for programs"
   ]
  },
  {
   "cell_type": "markdown",
   "id": "72c0dc2b-0be9-4180-94df-742200ecfe29",
   "metadata": {},
   "source": [
    "### Program information with descriptions and keywords."
   ]
  },
  {
   "cell_type": "code",
   "execution_count": 9,
   "id": "9472952e-6a70-498c-ad90-47d62c13056b",
   "metadata": {},
   "outputs": [],
   "source": [
    "program_info = {\n",
    "    \"computer science\": {\n",
    "        \"description\": \"The Computer Science program offers a comprehensive curriculum covering programming, algorithms, data structures, software engineering, and artificial intelligence. Graduates are prepared for careers in software development, research, and technology management.\",\n",
    "        \"prerequisites\": \"High school mathematics, problem-solving skills, and a passion for technology.\",\n",
    "        \"career_outcomes\": \"Software Engineer, Data Scientist, Researcher, System Analyst.\",\n",
    "        \"keywords\": [\"technology\", \"programming\", \"software\", \"algorithms\", \"AI\", \"innovation\"]\n",
    "    },\n",
    "    \"business administration\": {\n",
    "        \"description\": \"The Business Administration program provides insights into management, finance, marketing, and entrepreneurship. It emphasizes practical skills through internships, case studies, and collaborative projects.\",\n",
    "        \"prerequisites\": \"Strong communication skills, basic understanding of mathematics, and an interest in leadership and management.\",\n",
    "        \"career_outcomes\": \"Business Manager, Marketing Specialist, Financial Analyst, Entrepreneur.\",\n",
    "        \"keywords\": [\"management\", \"finance\", \"marketing\", \"leadership\", \"entrepreneurship\", \"business\"]\n",
    "    },\n",
    "    # Add additional programs as needed.\n",
    "}"
   ]
  },
  {
   "cell_type": "markdown",
   "id": "e57c41e4-b6b5-4963-98e6-eb035eb026f9",
   "metadata": {},
   "source": [
    "### Precompute Program Embeddings using Contextual Information\n"
   ]
  },
  {
   "cell_type": "code",
   "execution_count": null,
   "id": "9ca9a20d-9faf-4e35-bfa9-c73863daea00",
   "metadata": {},
   "outputs": [],
   "source": [
    "# Combine the program description and keywords for a richer context.\n",
    "program_embeddings = {}\n",
    "for prog, details in program_info.items():\n",
    "    description = details.get(\"description\", \"\")\n",
    "    keywords_text = \" \".join(details.get(\"keywords\", []))\n",
    "    combined_text = f\"{description} {keywords_text}\"\n",
    "    embedding = sbert_model.encode(combined_text, convert_to_tensor=True)\n",
    "    program_embeddings[prog] = embedding"
   ]
  },
  {
   "cell_type": "markdown",
   "id": "4f01fdad-4be2-49a8-b018-03c02fb15b7d",
   "metadata": {},
   "source": [
    "## Tools"
   ]
  },
  {
   "cell_type": "markdown",
   "id": "4a3cfa63-244f-41ae-a7e7-780ba2e7319d",
   "metadata": {},
   "source": [
    "### Tool 1: Get Program Description"
   ]
  },
  {
   "cell_type": "code",
   "execution_count": null,
   "id": "73fd295c-b127-46cf-9ed1-7ee153482f86",
   "metadata": {},
   "outputs": [],
   "source": [
    "def get_program_description(program_name):\n",
    "    program = program_info.get(program_name.lower())\n",
    "    if program:\n",
    "        desc = (\n",
    "            f\"**{program_name.title()}**\\n\\n\"\n",
    "            f\"**Description:** {program['description']}\\n\\n\"\n",
    "            f\"**Prerequisites:** {program['prerequisites']}\\n\\n\"\n",
    "            f\"**Career Outcomes:** {program['career_outcomes']}\\n\\n\"\n",
    "            \"Please consult with an academic advisor for personalized advice.\"\n",
    "        )\n",
    "    else:\n",
    "        desc = f\"Sorry, we don't have information on the program '{program_name}'. Please try another program or contact our admissions office.\"\n",
    "    return desc\n",
    "\n",
    "program_description_function = {\n",
    "    \"name\": \"get_program_description\",\n",
    "    \"description\": \"Provides detailed information about a specific academic program.\",\n",
    "    \"parameters\": {\n",
    "        \"type\": \"object\",\n",
    "        \"properties\": {\n",
    "            \"program_name\": {\n",
    "                \"type\": \"string\",\n",
    "                \"description\": \"The name of the academic program (e.g., Computer Science, Business Administration)\"\n",
    "            }\n",
    "        },\n",
    "        \"required\": [\"program_name\"],\n",
    "        \"additionalProperties\": False\n",
    "    }\n",
    "}"
   ]
  },
  {
   "cell_type": "markdown",
   "id": "e991e6e9-d610-423c-be34-b4d9d4f0b553",
   "metadata": {},
   "source": [
    "### Tool 2: Get Program Recommendation Based on Interests and Skills with Contextual Embeddings"
   ]
  },
  {
   "cell_type": "code",
   "execution_count": null,
   "id": "07ad2424-30ff-43e2-a840-f680f24ca6e5",
   "metadata": {},
   "outputs": [],
   "source": [
    "def get_program_recommendation(interests, skills, weight_interests=0.6, weight_skills=0.4):\n",
    "    \"\"\"\n",
    "    Recommend programs based on a combination of interests and skills.\n",
    "    Compute separate embeddings for interests and skills, then combine them using weighted addition.\n",
    "    Compare against contextual embeddings computed from the program description and keywords.\n",
    "    \"\"\"\n",
    "    interests_embedding = sbert_model.encode(interests, convert_to_tensor=True)\n",
    "    skills_embedding = sbert_model.encode(skills, convert_to_tensor=True)\n",
    "    combined_embedding = weight_interests * interests_embedding + weight_skills * skills_embedding\n",
    "    \n",
    "    recommendations = {}\n",
    "    for prog, prog_embedding in program_embeddings.items():\n",
    "        cosine_sim = util.cos_sim(combined_embedding, prog_embedding)\n",
    "        similarity_score = cosine_sim.item()\n",
    "        if similarity_score > 0.2:\n",
    "            recommendations[prog.title()] = similarity_score\n",
    "    \n",
    "    if recommendations:\n",
    "        sorted_recs = sorted(recommendations.items(), key=lambda x: x[1], reverse=True)\n",
    "        rec_text = \"Based on your interests and skills, we recommend the following programs:\\n\\n\"\n",
    "        for program, score in sorted_recs:\n",
    "            rec_text += f\"- **{program}** (similarity: {score:.2f})\\n\"\n",
    "        rec_text += \"\\nPlease consult with an academic advisor for personalized guidance.\"\n",
    "    else:\n",
    "        rec_text = \"No program recommendations found based on your provided interests and skills. Please refine your input or contact admissions for further assistance.\"\n",
    "    \n",
    "    return rec_text\n",
    "\n",
    "program_recommendation_function = {\n",
    "    \"name\": \"get_program_recommendation\",\n",
    "    \"description\": \"Provides program recommendations based on user interests and skills using contextual embeddings (combining program descriptions and keywords) and cosine similarity with weighted inputs.\",\n",
    "    \"parameters\": {\n",
    "        \"type\": \"object\",\n",
    "        \"properties\": {\n",
    "            \"interests\": {\n",
    "                \"type\": \"string\",\n",
    "                \"description\": \"A comma-separated list of your academic interests (e.g., technology, management, finance)\"\n",
    "            },\n",
    "            \"skills\": {\n",
    "                \"type\": \"string\",\n",
    "                \"description\": \"A comma-separated list of your skills (e.g., programming, analytical thinking, communication)\"\n",
    "            }\n",
    "        },\n",
    "        \"required\": [\"interests\", \"skills\"],\n",
    "        \"additionalProperties\": False\n",
    "    }\n",
    "}"
   ]
  },
  {
   "cell_type": "markdown",
   "id": "7e5d740f-fcb3-4ff5-b9b9-56966f06a436",
   "metadata": {},
   "source": [
    "### Combine tools into a list"
   ]
  },
  {
   "cell_type": "code",
   "execution_count": 10,
   "id": "c87c2093-634d-48b8-9dc5-e4bc7113776d",
   "metadata": {},
   "outputs": [],
   "source": [
    "tools = [\n",
    "    {\"type\": \"function\", \"function\": program_description_function},\n",
    "    {\"type\": \"function\", \"function\": program_recommendation_function},\n",
    "]"
   ]
  },
  {
   "cell_type": "markdown",
   "id": "3a55c7c5-028c-4e10-8a61-2acb8df61e51",
   "metadata": {},
   "source": [
    "## System Message"
   ]
  },
  {
   "cell_type": "code",
   "execution_count": 11,
   "id": "de391fcb-585a-4536-a8ca-25bda4c3a832",
   "metadata": {},
   "outputs": [],
   "source": [
    "system_message = \"\"\"You are HigherEdAssist, a friendly academic program advisor.\n",
    "You help prospective students understand academic programs and offer guidance on enrollment decisions.\n",
    "Feel free to ask follow-up questions or request further clarifications.\n",
    "Always encourage students to consult with an academic advisor for personalized recommendations.\n",
    "\"\"\""
   ]
  },
  {
   "cell_type": "markdown",
   "id": "9371b273-52c4-42f3-9477-c48663f4085a",
   "metadata": {},
   "source": [
    "## Chat function"
   ]
  },
  {
   "cell_type": "code",
   "execution_count": 12,
   "id": "ca9b8eb9-1bf7-41fc-a194-ff7b61d2cb3c",
   "metadata": {},
   "outputs": [],
   "source": [
    "def chat(message, history):\n",
    "    # Build conversation history.\n",
    "    messages = [{\"role\": \"system\", \"content\": system_message}]\n",
    "    for h in history:\n",
    "        # Check if h is a tuple or list with exactly 2 elements.\n",
    "        if isinstance(h, (list, tuple)) and len(h) == 2:\n",
    "            user_msg, assistant_msg = h\n",
    "        elif isinstance(h, dict):  # If h is a dictionary, use keys 'user' and 'assistant'\n",
    "            user_msg = h.get(\"user\", \"\")\n",
    "            assistant_msg = h.get(\"assistant\", \"\")\n",
    "        else:\n",
    "            # If h does not match expected formats, skip it.\n",
    "            continue\n",
    "        messages.append({\"role\": \"user\", \"content\": user_msg})\n",
    "        messages.append({\"role\": \"assistant\", \"content\": assistant_msg})\n",
    "    messages.append({\"role\": \"user\", \"content\": message})\n",
    "    \n",
    "    # Call the OpenAI API.\n",
    "    response = openai.chat.completions.create(model=MODEL, messages=messages, tools=tools)\n",
    "    \n",
    "    # Process any tool calls if indicated.\n",
    "    tool_call_count = 0\n",
    "    max_tool_calls = 3\n",
    "    while response.choices[0].finish_reason == \"tool_calls\" and tool_call_count < max_tool_calls:\n",
    "        tool_call_count += 1\n",
    "        bot_message = response.choices[0].message\n",
    "        messages.append({\"role\": \"assistant\", \"content\": bot_message.content, \"tool_calls\": bot_message.tool_calls})\n",
    "        \n",
    "        for tool_call in bot_message.tool_calls:\n",
    "            function_name = tool_call.function.name\n",
    "            arguments = json.loads(tool_call.function.arguments)\n",
    "            result = call_tool_function(function_name, arguments)\n",
    "            tool_response = {\n",
    "                \"role\": \"tool\",\n",
    "                \"content\": json.dumps(result),\n",
    "                \"tool_call_id\": tool_call.id\n",
    "            }\n",
    "            messages.append(tool_response)\n",
    "        response = openai.chat.completions.create(model=MODEL, messages=messages)\n",
    "    \n",
    "    return response.choices[0].message.content"
   ]
  },
  {
   "cell_type": "markdown",
   "id": "e680143c-3b91-4f5d-8873-fac5b40955f5",
   "metadata": {},
   "source": [
    "## Helper Function to Route the Right Tool Call"
   ]
  },
  {
   "cell_type": "code",
   "execution_count": 13,
   "id": "e4061fae-eb85-42da-b235-21b2c861e567",
   "metadata": {},
   "outputs": [],
   "source": [
    "def call_tool_function(function_name, arguments):\n",
    "    if function_name == \"get_program_description\":\n",
    "        program_name = arguments.get('program_name')\n",
    "        desc = get_program_description(program_name)\n",
    "        return {\"program_name\": program_name, \"description\": desc}\n",
    "    \n",
    "    elif function_name == \"get_program_recommendation\":\n",
    "        interests = arguments.get('interests')\n",
    "        skills = arguments.get('skills')\n",
    "        recs = get_program_recommendation(interests, skills)\n",
    "        return {\"interests\": interests, \"skills\": skills, \"recommendations\": recs}\n",
    "    \n",
    "    return {\"error\": f\"Unknown function: {function_name}\"}"
   ]
  },
  {
   "cell_type": "markdown",
   "id": "e55b7a63-9d2b-476a-92de-0d0eea0b2d57",
   "metadata": {},
   "source": [
    "## User Interface"
   ]
  },
  {
   "cell_type": "code",
   "execution_count": 14,
   "id": "dafb3801-17e1-4266-97cb-aafa1079782e",
   "metadata": {},
   "outputs": [
    {
     "name": "stderr",
     "output_type": "stream",
     "text": [
      "/opt/anaconda3/envs/llms/lib/python3.11/site-packages/gradio/components/chatbot.py:285: UserWarning: You have not specified a value for the `type` parameter. Defaulting to the 'tuples' format for chatbot messages, but this is deprecated and will be removed in a future version of Gradio. Please set type='messages' instead, which uses openai-style dictionaries with 'role' and 'content' keys.\n",
      "  warnings.warn(\n",
      "/opt/anaconda3/envs/llms/lib/python3.11/site-packages/gradio/chat_interface.py:310: UserWarning: The type of the gr.Chatbot does not match the type of the gr.ChatInterface.The type of the gr.ChatInterface, 'messages', will be used.\n",
      "  warnings.warn(\n",
      "huggingface/tokenizers: The current process just got forked, after parallelism has already been used. Disabling parallelism to avoid deadlocks...\n",
      "To disable this warning, you can either:\n",
      "\t- Avoid using `tokenizers` before the fork if possible\n",
      "\t- Explicitly set the environment variable TOKENIZERS_PARALLELISM=(true | false)\n"
     ]
    },
    {
     "name": "stdout",
     "output_type": "stream",
     "text": [
      "* Running on local URL:  http://127.0.0.1:7876\n",
      "\n",
      "To create a public link, set `share=True` in `launch()`.\n"
     ]
    },
    {
     "data": {
      "text/html": [
       "<div><iframe src=\"http://127.0.0.1:7876/\" width=\"100%\" height=\"500\" allow=\"autoplay; camera; microphone; clipboard-read; clipboard-write;\" frameborder=\"0\" allowfullscreen></iframe></div>"
      ],
      "text/plain": [
       "<IPython.core.display.HTML object>"
      ]
     },
     "metadata": {},
     "output_type": "display_data"
    },
    {
     "data": {
      "text/plain": []
     },
     "execution_count": 14,
     "metadata": {},
     "output_type": "execute_result"
    }
   ],
   "source": [
    "#  Define the Gradio UI and Launch the Application\n",
    "with gr.Blocks() as demo:\n",
    "    gr.Markdown(\"# HigherEdAssist: Academic Program Advisor\")\n",
    "    \n",
    "    chatbot = gr.ChatInterface(\n",
    "        fn=chat,\n",
    "        chatbot=gr.Chatbot(height=500),\n",
    "        type=\"messages\",\n",
    "        title=\"Chat with HigherEdAssist\",\n",
    "        description=\"Ask about academic programs, get detailed program descriptions, or request recommendations based on your interests and skills.\",\n",
    "        examples=[\n",
    "            \"Tell me about Computer Science.\",\n",
    "            \"What is Business Administration all about?\",\n",
    "            \"Which program should I enroll in if I'm interested in technology, innovation, and programming?\",\n",
    "            \"Can you recommend programs if I like management, finance, and leadership? My skills include strong communication and analytical thinking.\"\n",
    "        ]\n",
    "    )\n",
    "    \n",
    "    with gr.Accordion(\"Available Programs\", open=False):\n",
    "        program_list = \", \".join([p.title() for p in program_info.keys()])\n",
    "        gr.Markdown(program_list)\n",
    "    \n",
    "    with gr.Accordion(\"How It Works\", open=False):\n",
    "        gr.Markdown(\n",
    "            \"\"\"\n",
    "            - Type your query about a specific program or ask for recommendations based on your interests and skills.\n",
    "            - The assistant provides detailed program descriptions including curriculum highlights, prerequisites, and career outcomes.\n",
    "            - The recommendation tool uses contextual embeddings (combining program descriptions and keywords) with a weighted approach to better match your input.\n",
    "            - Feel free to ask follow-up questions or request clarifications.\n",
    "            - Please consult with an academic advisor for personalized guidance.\n",
    "            \"\"\"\n",
    "        )\n",
    "\n",
    "# Launch the application\n",
    "demo.launch()"
   ]
  },
  {
   "cell_type": "code",
   "execution_count": null,
   "id": "064e3e44-f461-4a6a-a954-2587f144b9fe",
   "metadata": {},
   "outputs": [],
   "source": []
  }
 ],
 "metadata": {
  "kernelspec": {
   "display_name": "Python 3 (ipykernel)",
   "language": "python",
   "name": "python3"
  },
  "language_info": {
   "codemirror_mode": {
    "name": "ipython",
    "version": 3
   },
   "file_extension": ".py",
   "mimetype": "text/x-python",
   "name": "python",
   "nbconvert_exporter": "python",
   "pygments_lexer": "ipython3",
   "version": "3.11.11"
  }
 },
 "nbformat": 4,
 "nbformat_minor": 5
}
