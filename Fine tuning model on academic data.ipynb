{
 "cells": [
  {
   "cell_type": "code",
   "execution_count": 2,
   "id": "a4cc6cf2-be90-4b30-a9af-5bb2ba6d7b07",
   "metadata": {},
   "outputs": [
    {
     "data": {
      "application/vnd.jupyter.widget-view+json": {
       "model_id": "0d4a4657de03446086e7e3c31d3f3e11",
       "version_major": 2,
       "version_minor": 0
      },
      "text/plain": [
       "Computing widget examples:   0%|          | 0/1 [00:00<?, ?example/s]"
      ]
     },
     "metadata": {},
     "output_type": "display_data"
    },
    {
     "data": {
      "text/html": [
       "\n",
       "    <div>\n",
       "      \n",
       "      <progress value='35' max='35' style='width:300px; height:20px; vertical-align: middle;'></progress>\n",
       "      [35/35 1:10:10, Epoch 1/1]\n",
       "    </div>\n",
       "    <table border=\"1\" class=\"dataframe\">\n",
       "  <thead>\n",
       " <tr style=\"text-align: left;\">\n",
       "      <th>Step</th>\n",
       "      <th>Training Loss</th>\n",
       "    </tr>\n",
       "  </thead>\n",
       "  <tbody>\n",
       "  </tbody>\n",
       "</table><p>"
      ],
      "text/plain": [
       "<IPython.core.display.HTML object>"
      ]
     },
     "metadata": {},
     "output_type": "display_data"
    },
    {
     "name": "stdout",
     "output_type": "stream",
     "text": [
      "Fine-tuning complete. The model is saved at './fine_tuned_academic_program_model'\n"
     ]
    }
   ],
   "source": [
    "import pandas as pd\n",
    "from sentence_transformers import SentenceTransformer, InputExample, losses\n",
    "from torch.utils.data import DataLoader\n",
    "\n",
    "# Step 1: Load the dataset\n",
    "# Ensure that 'programs_with_summary.csv' is in your working directory.\n",
    "# Expected columns: Program, Program Link, Program Description, Program_Summary.\n",
    "df = pd.read_csv(\"programs_with_summary.csv\")\n",
    "\n",
    "# Drop rows where either description or summary might be missing.\n",
    "df = df.dropna(subset=[\"Program Description\", \"Program_Summary\"])\n",
    "\n",
    "# Step 2: Create Training Examples\n",
    "# For each program, pair the \"Program Description\" with the \"Program_Summary\".\n",
    "train_examples = [\n",
    "    InputExample(texts=[row[\"Program Description\"], row[\"Program_Summary\"]])\n",
    "    for _, row in df.iterrows()\n",
    "]\n",
    "\n",
    "# Step 3: Create a DataLoader for the training examples.\n",
    "batch_size = 16\n",
    "train_dataloader = DataLoader(train_examples, shuffle=True, batch_size=batch_size)\n",
    "\n",
    "# Step 4: Initialize the SentenceTransformer model.\n",
    "model = SentenceTransformer('all-MiniLM-L6-v2')\n",
    "\n",
    "# Step 5: Define the Loss Function.\n",
    "# Using MultipleNegativesRankingLoss which treats other examples in the batch as negatives.\n",
    "train_loss = losses.MultipleNegativesRankingLoss(model)\n",
    "\n",
    "# Step 6: Fine-Tune the Model.\n",
    "num_epochs = 1  # Increase the number of epochs for better performance.\n",
    "warmup_steps = int(len(train_dataloader) * num_epochs * 0.1)  # 10% of total steps for warm-up\n",
    "\n",
    "model.fit(\n",
    "    train_objectives=[(train_dataloader, train_loss)],\n",
    "    epochs=num_epochs,\n",
    "    warmup_steps=warmup_steps,\n",
    "    output_path='./fine_tuned_academic_program_model'\n",
    ")\n",
    "\n",
    "print(\"Fine-tuning complete. The model is saved at './fine_tuned_academic_program_model'\")\n"
   ]
  },
  {
   "cell_type": "code",
   "execution_count": null,
   "id": "089110a6-ed70-4cb6-94d4-f53274da6e6d",
   "metadata": {},
   "outputs": [],
   "source": []
  }
 ],
 "metadata": {
  "kernelspec": {
   "display_name": "Python 3 (ipykernel)",
   "language": "python",
   "name": "python3"
  },
  "language_info": {
   "codemirror_mode": {
    "name": "ipython",
    "version": 3
   },
   "file_extension": ".py",
   "mimetype": "text/x-python",
   "name": "python",
   "nbconvert_exporter": "python",
   "pygments_lexer": "ipython3",
   "version": "3.11.11"
  }
 },
 "nbformat": 4,
 "nbformat_minor": 5
}
